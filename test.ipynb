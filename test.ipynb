{
 "cells": [
  {
   "cell_type": "markdown",
   "metadata": {},
   "source": [
    "# init"
   ]
  },
  {
   "cell_type": "code",
   "execution_count": 1,
   "metadata": {},
   "outputs": [],
   "source": [
    "import numpy as np\n",
    "import pyaudio as pa\n",
    "from math import sin, pi"
   ]
  },
  {
   "cell_type": "code",
   "execution_count": 5,
   "metadata": {},
   "outputs": [],
   "source": [
    "fmt = pa.paInt16\n",
    "samp = 8000"
   ]
  },
  {
   "cell_type": "code",
   "execution_count": 6,
   "metadata": {},
   "outputs": [],
   "source": [
    "left = 440\n",
    "right = 445"
   ]
  },
  {
   "cell_type": "code",
   "execution_count": 7,
   "metadata": {},
   "outputs": [],
   "source": [
    "import matplotlib.pyplot as plt\n",
    "%matplotlib inline"
   ]
  },
  {
   "cell_type": "markdown",
   "metadata": {},
   "source": [
    "# timeit"
   ]
  },
  {
   "cell_type": "code",
   "execution_count": 8,
   "metadata": {},
   "outputs": [
    {
     "name": "stdout",
     "output_type": "stream",
     "text": [
      "10 loops, best of 3: 246 ms per loop\n"
     ]
    }
   ],
   "source": [
    "%timeit -n 10 np.arange(10000000) * 2 * pi * left / samp"
   ]
  },
  {
   "cell_type": "code",
   "execution_count": 9,
   "metadata": {},
   "outputs": [
    {
     "name": "stdout",
     "output_type": "stream",
     "text": [
      "10 loops, best of 3: 91.6 ms per loop\n"
     ]
    }
   ],
   "source": [
    "%timeit -n 10 2 * pi * left / samp * np.arange(10000000)"
   ]
  },
  {
   "cell_type": "markdown",
   "metadata": {},
   "source": [
    "# timeit"
   ]
  },
  {
   "cell_type": "code",
   "execution_count": 10,
   "metadata": {},
   "outputs": [
    {
     "name": "stdout",
     "output_type": "stream",
     "text": [
      "The slowest run took 5.31 times longer than the fastest. This could mean that an intermediate result is being cached.\n",
      "10000 loops, best of 3: 136 µs per loop\n"
     ]
    }
   ],
   "source": [
    "%timeit np.sin(2 * pi * left / samp * np.arange(samp))"
   ]
  },
  {
   "cell_type": "code",
   "execution_count": 11,
   "metadata": {},
   "outputs": [
    {
     "name": "stdout",
     "output_type": "stream",
     "text": [
      "10000 loops, best of 3: 136 µs per loop\n"
     ]
    }
   ],
   "source": [
    "theta = 2 * pi * left / samp\n",
    "%timeit np.sin(theta * np.arange(samp))"
   ]
  },
  {
   "cell_type": "markdown",
   "metadata": {},
   "source": [
    "# timeit"
   ]
  },
  {
   "cell_type": "code",
   "execution_count": 12,
   "metadata": {},
   "outputs": [],
   "source": [
    "def func1():\n",
    "    data = np.zeros(samp * 2)\n",
    "    ldata = np.sin(2 * pi * left / samp * np.arange(samp))\n",
    "    rdata = np.sin(2 * pi * right / samp * np.arange(samp))\n",
    "    index = np.arange(0,samp*2,2)\n",
    "    np.add.at(data, index, ldata)\n",
    "    np.add.at(data, index + 1, rdata)"
   ]
  },
  {
   "cell_type": "code",
   "execution_count": 13,
   "metadata": {},
   "outputs": [],
   "source": [
    "def func2():\n",
    "    length = int(samp)\n",
    "    num = length << 1\n",
    "    data = [0.0] * num\n",
    "    left_theta = 2 * pi * float(left) / samp\n",
    "    right_theta = 2 * pi * float(right) / samp\n",
    "    for (n, l), r in zip(enumerate(range(0, num, 2)), range(1, num, 2)):\n",
    "        data[l] = sin(left_theta * n)\n",
    "        data[r] = sin(right_theta * n)"
   ]
  },
  {
   "cell_type": "code",
   "execution_count": 14,
   "metadata": {},
   "outputs": [
    {
     "name": "stdout",
     "output_type": "stream",
     "text": [
      "1000 loops, best of 3: 1.95 ms per loop\n"
     ]
    }
   ],
   "source": [
    "%timeit func1()"
   ]
  },
  {
   "cell_type": "code",
   "execution_count": 15,
   "metadata": {},
   "outputs": [
    {
     "name": "stdout",
     "output_type": "stream",
     "text": [
      "100 loops, best of 3: 5.56 ms per loop\n"
     ]
    }
   ],
   "source": [
    "%timeit func2()"
   ]
  },
  {
   "cell_type": "markdown",
   "metadata": {},
   "source": [
    "# main"
   ]
  },
  {
   "cell_type": "code",
   "execution_count": 16,
   "metadata": {},
   "outputs": [
    {
     "name": "stdout",
     "output_type": "stream",
     "text": [
      "[ 0.          0.          0.33873792 ..., -0.64345586 -0.33873792\n",
      " -0.34243013]\n",
      "[ 0.          0.33873792  0.63742399 ..., -0.86074203 -0.63742399\n",
      " -0.33873792]\n",
      "[ 0.          0.34243013  0.64345586 ..., -0.86667916 -0.64345586\n",
      " -0.34243013]\n",
      "[    0     2     4 ..., 15994 15996 15998]\n"
     ]
    }
   ],
   "source": [
    "data = np.zeros(samp * 2)\n",
    "ldata = np.sin(2 * pi * left / samp * np.arange(samp))\n",
    "rdata = np.sin(2 * pi * right / samp * np.arange(samp))\n",
    "index = np.arange(0,samp*2,2)\n",
    "np.add.at(data, index, ldata)\n",
    "np.add.at(data, index + 1, rdata)\n",
    "print(data, ldata, rdata, index, sep='\\n')"
   ]
  },
  {
   "cell_type": "markdown",
   "metadata": {},
   "source": [
    "# plot"
   ]
  },
  {
   "cell_type": "code",
   "execution_count": 1,
   "metadata": {},
   "outputs": [],
   "source": [
    "# plt.figure(figsize=(300,5))\n",
    "# plt.plot(data)"
   ]
  },
  {
   "cell_type": "markdown",
   "metadata": {},
   "source": [
    "# main"
   ]
  },
  {
   "cell_type": "code",
   "execution_count": null,
   "metadata": {},
   "outputs": [],
   "source": [
    "data = "
   ]
  },
  {
   "cell_type": "markdown",
   "metadata": {},
   "source": [
    "# test"
   ]
  },
  {
   "cell_type": "code",
   "execution_count": 70,
   "metadata": {},
   "outputs": [
    {
     "data": {
      "text/plain": [
       "array([ 0,  1,  2,  3,  4,  5,  6,  7,  8,  9, 10, 11, 12, 13, 14, 15, 16,\n",
       "       17, 18, 19, 20, 21, 22, 23, 24, 25, 26, 27, 28, 29, 30, 31, 32, 33,\n",
       "       34, 35, 36, 37, 38, 39, 40, 41, 42, 43, 44, 45, 46, 47, 48, 49, 50,\n",
       "       51, 52, 53, 54, 55, 56, 57, 58, 59, 60, 61, 62, 63, 64, 65, 66, 67,\n",
       "       68, 69, 70, 71, 72, 73, 74, 75, 76, 77, 78, 79, 80, 81, 82, 83, 84,\n",
       "       85, 86, 87, 88, 89, 90, 91, 92, 93, 94, 95, 96, 97, 98, 99])"
      ]
     },
     "execution_count": 70,
     "metadata": {},
     "output_type": "execute_result"
    }
   ],
   "source": [
    "d = np.arange(100)\n",
    "d"
   ]
  },
  {
   "cell_type": "code",
   "execution_count": 71,
   "metadata": {},
   "outputs": [
    {
     "data": {
      "text/plain": [
       "array([ 0,  2,  4,  6,  8, 10, 12, 14, 16, 18, 20, 22, 24, 26, 28, 30, 32,\n",
       "       34, 36, 38, 40, 42, 44, 46, 48, 50, 52, 54, 56, 58, 60, 62, 64, 66,\n",
       "       68, 70, 72, 74, 76, 78, 80, 82, 84, 86, 88, 90, 92, 94, 96, 98])"
      ]
     },
     "execution_count": 71,
     "metadata": {},
     "output_type": "execute_result"
    }
   ],
   "source": [
    "i = np.arange(0,100,2)\n",
    "i"
   ]
  },
  {
   "cell_type": "code",
   "execution_count": 72,
   "metadata": {},
   "outputs": [
    {
     "data": {
      "text/plain": [
       "array([ 1,  1,  3,  3,  5,  5,  7,  7,  9,  9, 11, 11, 13, 13, 15, 15, 17,\n",
       "       17, 19, 19, 21, 21, 23, 23, 25, 25, 27, 27, 29, 29, 31, 31, 33, 33,\n",
       "       35, 35, 37, 37, 39, 39, 41, 41, 43, 43, 45, 45, 47, 47, 49, 49, 51,\n",
       "       51, 53, 53, 55, 55, 57, 57, 59, 59, 61, 61, 63, 63, 65, 65, 67, 67,\n",
       "       69, 69, 71, 71, 73, 73, 75, 75, 77, 77, 79, 79, 81, 81, 83, 83, 85,\n",
       "       85, 87, 87, 89, 89, 91, 91, 93, 93, 95, 95, 97, 97, 99, 99])"
      ]
     },
     "execution_count": 72,
     "metadata": {},
     "output_type": "execute_result"
    }
   ],
   "source": [
    "np.add.at(d, i, 1)\n",
    "d"
   ]
  },
  {
   "cell_type": "code",
   "execution_count": 18,
   "metadata": {},
   "outputs": [
    {
     "data": {
      "text/plain": [
       "array([  0.,   0.,   2.,   0.,   4.,   0.,   6.,   0.,   8.,   0.,  10.,\n",
       "         0.,  12.,   0.,  14.,   0.,  16.,   0.,  18.,   0.,  20.,   0.,\n",
       "        22.,   0.,  24.,   0.,  26.,   0.,  28.,   0.,  30.,   0.,  32.,\n",
       "         0.,  34.,   0.,  36.,   0.,  38.,   0.,  40.,   0.,  42.,   0.,\n",
       "        44.,   0.,  46.,   0.,  48.,   0.,  50.,   0.,  52.,   0.,  54.,\n",
       "         0.,  56.,   0.,  58.,   0.,  60.,   0.,  62.,   0.,  64.,   0.,\n",
       "        66.,   0.,  68.,   0.,  70.,   0.,  72.,   0.,  74.,   0.,  76.,\n",
       "         0.,  78.,   0.,  80.,   0.,  82.,   0.,  84.,   0.,  86.,   0.,\n",
       "        88.,   0.,  90.,   0.,  92.,   0.,  94.,   0.,  96.,   0.,  98.,\n",
       "         0.])"
      ]
     },
     "execution_count": 18,
     "metadata": {},
     "output_type": "execute_result"
    }
   ],
   "source": [
    "d = np.zeros(100)\n",
    "a = np.arange(50)\n",
    "i = np.arange(0, 100, 2)\n",
    "np.add.at(d, i, a)\n",
    "d * 2"
   ]
  },
  {
   "cell_type": "code",
   "execution_count": 82,
   "metadata": {},
   "outputs": [
    {
     "data": {
      "text/plain": [
       "numpy.ndarray"
      ]
     },
     "execution_count": 82,
     "metadata": {},
     "output_type": "execute_result"
    }
   ],
   "source": [
    "type(np.array([1]))"
   ]
  },
  {
   "cell_type": "code",
   "execution_count": 98,
   "metadata": {},
   "outputs": [
    {
     "name": "stdout",
     "output_type": "stream",
     "text": [
      "10 loops, best of 3: 212 ms per loop\n"
     ]
    }
   ],
   "source": [
    "n = 10000000\n",
    "%timeit -n 10 np.arange(n) * 1.1 * 2.2 / 3.3"
   ]
  },
  {
   "cell_type": "code",
   "execution_count": 99,
   "metadata": {},
   "outputs": [
    {
     "name": "stdout",
     "output_type": "stream",
     "text": [
      "10 loops, best of 3: 90.9 ms per loop\n"
     ]
    }
   ],
   "source": [
    "%timeit -n 10 1.1 * 2.2 / 3.3 * np.arange(n)"
   ]
  },
  {
   "cell_type": "code",
   "execution_count": 67,
   "metadata": {},
   "outputs": [
    {
     "name": "stdout",
     "output_type": "stream",
     "text": [
      "[1, 2, 4, 8, 16]\n",
      "32\n",
      "1246720\n",
      "PortAudio V19.6.0-devel, revision 396fe4b6699ae929d3a685b3ef8a7e97396139a4\n",
      "0: 1 4 2147483647.0\n",
      "1: 2 4 2147483647.0\n",
      "2: 4 3 8388607.0\n",
      "3: 8 2 32767.0\n",
      "4: 16 1 127.0\n"
     ]
    }
   ],
   "source": [
    "paFormat=[pa.paFloat32, pa.paInt32, pa.paInt24, pa.paInt16, pa.paInt8]\n",
    "print(paFormat)\n",
    "print(pa.get_format_from_width(1))\n",
    "print(pa.get_portaudio_version())\n",
    "print(pa.get_portaudio_version_text())\n",
    "for i, f in enumerate(paFormat):\n",
    "    s = pa.get_sample_size(f)\n",
    "    print(str(i)+':', f, s, (2**8)**s/2 - 1)"
   ]
  },
  {
   "cell_type": "code",
   "execution_count": 62,
   "metadata": {},
   "outputs": [
    {
     "data": {
      "text/plain": [
       "256"
      ]
     },
     "execution_count": 62,
     "metadata": {},
     "output_type": "execute_result"
    }
   ],
   "source": []
  },
  {
   "cell_type": "code",
   "execution_count": 91,
   "metadata": {},
   "outputs": [
    {
     "data": {
      "text/plain": [
       "array([  0,   0,   2,   2,   4,   4,   6,   6,   8,   8,  10,  10,  12,\n",
       "        12,  14,  14,  16,  16,  18,  18,  20,  20,  22,  22,  24,  24,\n",
       "        26,  26,  28,  28,  30,  30,  32,  32,  34,  34,  36,  36,  38,\n",
       "        38,  40,  40,  42,  42,  44,  44,  46,  46,  48,  48,  50,  50,\n",
       "        52,  52,  54,  54,  56,  56,  58,  58,  60,  60,  62,  62,  64,\n",
       "        64,  66,  66,  68,  68,  70,  70,  72,  72,  74,  74,  76,  76,\n",
       "        78,  78,  80,  80,  82,  82,  84,  84,  86,  86,  88,  88,  90,\n",
       "        90,  92,  92,  94,  94,  96,  96,  98,  98, 100, 100, 102, 102,\n",
       "       104, 104, 106, 106, 108, 108, 110, 110, 112, 112, 114, 114, 116,\n",
       "       116, 118, 118, 120, 120, 122, 122, 124, 124, 126, 126, 128, 128,\n",
       "       130, 130, 132, 132, 134, 134, 136, 136, 138, 138, 140, 140, 142,\n",
       "       142, 144, 144, 146, 146, 148, 148, 150, 150, 152, 152, 154, 154,\n",
       "       156, 156, 158, 158, 160, 160, 162, 162, 164, 164, 166, 166, 168,\n",
       "       168, 170, 170, 172, 172, 174, 174, 176, 176, 178, 178, 180, 180,\n",
       "       182, 182, 184, 184, 186, 186, 188, 188, 190, 190, 192, 192, 194,\n",
       "       194, 196, 196, 198, 198])"
      ]
     },
     "execution_count": 91,
     "metadata": {},
     "output_type": "execute_result"
    }
   ],
   "source": [
    "rate = 100\n",
    "length = rate * 2\n",
    "data = np.arange(length)\n",
    "index = np.arange(0, length, 2)\n",
    "np.add.at(data, index + 1, -1)\n",
    "data"
   ]
  },
  {
   "cell_type": "code",
   "execution_count": 97,
   "metadata": {},
   "outputs": [
    {
     "data": {
      "text/plain": [
       "array([   0.,    0.,    0.,    2.,    2.,    4.,    4.,    6.,    6.,\n",
       "          8.,    8.,   10.,   10.,   12.,   12.,   14.,   14.,   16.,\n",
       "         16.,   18.,   18.,   20.,   20.,   22.,   22.,   24.,   24.,\n",
       "         26.,   26.,   28.,   28.,   30.,   30.,   32.,   32.,   34.,\n",
       "         34.,   36.,   36.,   38.,   38.,   40.,   40.,   42.,   42.,\n",
       "         44.,   44.,   46.,   46.,   48.,   48.,   50.,   50.,   52.,\n",
       "         52.,   54.,   54.,   56.,   56.,   58.,   58.,   60.,   60.,\n",
       "         62.,   62.,   64.,   64.,   66.,   66.,   68.,   68.,   70.,\n",
       "         70.,   72.,   72.,   74.,   74.,   76.,   76.,   78.,   78.,\n",
       "         80.,   80.,   82.,   82.,   84.,   84.,   86.,   86.,   88.,\n",
       "         88.,   90.,   90.,   92.,   92.,   94.,   94.,   96.,   96.,\n",
       "         98.,   98.,  100.,  100.,  102.,  102.,  104.,  104.,  106.,\n",
       "        106.,  108.,  108.,  110.,  110.,  112.,  112.,  114.,  114.,\n",
       "        116.,  116.,  118.,  118.,  120.,  120.,  122.,  122.,  124.,\n",
       "        124.,  126.,  126.,  128.,  128.,  130.,  130.,  132.,  132.,\n",
       "        134.,  134.,  136.,  136.,  138.,  138.,  140.,  140.,  142.,\n",
       "        142.,  144.,  144.,  146.,  146.,  148.,  148.,  150.,  150.,\n",
       "        152.,  152.,  154.,  154.,  156.,  156.,  158.,  158.,  160.,\n",
       "        160.,  162.,  162.,  164.,  164.,  166.,  166.,  168.,  168.,\n",
       "        170.,  170.,  172.,  172.,  174.,  174.,  176.,  176.,  178.,\n",
       "        178.,  180.,  180.,  182.,  182.,  184.,  184.,  186.,  186.,\n",
       "        188.,  188.,  190.,  190.,  192.,  192.,  194.,  194.,  196.,\n",
       "        196.,  198.,  198.,    0.,    0.,    0.,    0.,    0.,    0.,\n",
       "          0.,    0.,    0.,    0.,    0.,    0.,    0.,    0.,    0.,\n",
       "          0.,    0.,    0.,    0.,    0.,    0.,    0.,    0.,    0.,\n",
       "          0.,    0.,    0.,    0.,    0.,    0.,    0.,    0.,    0.,\n",
       "          0.,    0.,    0.,    0.,    0.,    0.,    0.,    0.,    0.,\n",
       "          0.,    0.,    0.,    0.,    0.,    0.,    0.,    0.,    0.,\n",
       "          0.,    0.,    0.,    0.,    0.,    0.,    0.,    0.,    0.,\n",
       "          0.,    0.,    0.,    0.,    0.,    0.,    0.,    0.,    0.,\n",
       "          0.,    0.,    0.,    0.,    0.,    0.,    0.,    0.,    0.,\n",
       "          0.,    0.,    0.,    0.,    0.,    0.,    0.,    0.,    0.,\n",
       "          0.,    0.,    0.,    0.,    0.,    0.,    0.,    0.,    0.,\n",
       "          0.,    0.,    0.,    0.,    0.,    0.,    0.,    0.,    0.,\n",
       "          0.,    0.,    0.,    0.,    0.,    0.,    0.,    0.,    0.,\n",
       "          0.,    0.,    0.,    0.,    0.,    0.,    0.,    0.,    0.,\n",
       "          0.,    0.,    0.,    0.,    0.,    0.,    0.,    0.,    0.,\n",
       "          0.,    0.,    0.,    0.,    0.,    0.,    0.,    0.,    0.,\n",
       "          0.,    0.,    0.,    0.,    0.,    0.,    0.,    0.,    0.,\n",
       "          0.,    0.,    0.,    0.,    0.,    0.,    0.,    0.,    0.,\n",
       "          0.,    0.,    0.,    0.,    0.,    0.,    0.,    0.,    0.,\n",
       "          0.,    0.,    0.,    0.,    0.,    0.,    0.,    0.,    0.,\n",
       "          0.,    0.,    0.,    0.,    0.,    0.,    0.,    0.,    0.,\n",
       "          0.,    0.,    0.,    0.,    0.,    0.,    0.,    0.,    0.,\n",
       "          0.,    0.,    0.,    0.])"
      ]
     },
     "execution_count": 97,
     "metadata": {},
     "output_type": "execute_result"
    }
   ],
   "source": [
    "tmp = np.zeros(rate * 2 * 2)\n",
    "tmpind = np.arange(rate * 2)\n",
    "np.add.at(tmp, tmpind + 1, data)\n",
    "tmp.astype(np.int)"
   ]
  },
  {
   "cell_type": "code",
   "execution_count": 104,
   "metadata": {},
   "outputs": [
    {
     "data": {
      "text/plain": [
       "dtype('S1')"
      ]
     },
     "execution_count": 104,
     "metadata": {},
     "output_type": "execute_result"
    }
   ],
   "source": [
    "np.dtype('S1')"
   ]
  },
  {
   "cell_type": "code",
   "execution_count": 105,
   "metadata": {},
   "outputs": [
    {
     "name": "stdout",
     "output_type": "stream",
     "text": [
      "Help on class BaseException in module builtins:\n",
      "\n",
      "class BaseException(object)\n",
      " |  Common base class for all exceptions\n",
      " |  \n",
      " |  Methods defined here:\n",
      " |  \n",
      " |  __delattr__(self, name, /)\n",
      " |      Implement delattr(self, name).\n",
      " |  \n",
      " |  __getattribute__(self, name, /)\n",
      " |      Return getattr(self, name).\n",
      " |  \n",
      " |  __init__(self, /, *args, **kwargs)\n",
      " |      Initialize self.  See help(type(self)) for accurate signature.\n",
      " |  \n",
      " |  __new__(*args, **kwargs) from builtins.type\n",
      " |      Create and return a new object.  See help(type) for accurate signature.\n",
      " |  \n",
      " |  __reduce__(...)\n",
      " |      helper for pickle\n",
      " |  \n",
      " |  __repr__(self, /)\n",
      " |      Return repr(self).\n",
      " |  \n",
      " |  __setattr__(self, name, value, /)\n",
      " |      Implement setattr(self, name, value).\n",
      " |  \n",
      " |  __setstate__(...)\n",
      " |  \n",
      " |  __str__(self, /)\n",
      " |      Return str(self).\n",
      " |  \n",
      " |  with_traceback(...)\n",
      " |      Exception.with_traceback(tb) --\n",
      " |      set self.__traceback__ to tb and return self.\n",
      " |  \n",
      " |  ----------------------------------------------------------------------\n",
      " |  Data descriptors defined here:\n",
      " |  \n",
      " |  __cause__\n",
      " |      exception cause\n",
      " |  \n",
      " |  __context__\n",
      " |      exception context\n",
      " |  \n",
      " |  __dict__\n",
      " |  \n",
      " |  __suppress_context__\n",
      " |  \n",
      " |  __traceback__\n",
      " |  \n",
      " |  args\n",
      "\n"
     ]
    }
   ],
   "source": [
    "help(Exception)"
   ]
  },
  {
   "cell_type": "code",
   "execution_count": null,
   "metadata": {},
   "outputs": [],
   "source": []
  }
 ],
 "metadata": {
  "kernelspec": {
   "display_name": "Python [default]",
   "language": "python",
   "name": "python3"
  },
  "language_info": {
   "codemirror_mode": {
    "name": "ipython",
    "version": 3
   },
   "file_extension": ".py",
   "mimetype": "text/x-python",
   "name": "python",
   "nbconvert_exporter": "python",
   "pygments_lexer": "ipython3",
   "version": "3.5.2"
  }
 },
 "nbformat": 4,
 "nbformat_minor": 1
}
